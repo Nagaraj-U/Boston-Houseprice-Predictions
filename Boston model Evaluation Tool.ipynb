{
 "cells": [
  {
   "cell_type": "code",
   "execution_count": 53,
   "metadata": {},
   "outputs": [],
   "source": [
    "from sklearn.datasets import load_boston\n",
    "from sklearn.metrics import mean_squared_error\n",
    "from sklearn.linear_model import LinearRegression\n",
    "\n",
    "import numpy as np\n",
    "import pandas as pd\n",
    "\n",
    "\n",
    "import Boston_valuation as val"
   ]
  },
  {
   "cell_type": "code",
   "execution_count": 2,
   "metadata": {},
   "outputs": [
    {
     "data": {
      "text/plain": [
       "(506, 1)"
      ]
     },
     "execution_count": 2,
     "metadata": {},
     "output_type": "execute_result"
    }
   ],
   "source": [
    "boston_dataset = load_boston()\n",
    "data = pd.DataFrame(data=boston_dataset.data,columns=boston_dataset.feature_names)\n",
    "# data.head()\n",
    "features = data.drop(['INDUS','AGE'],axis=1)\n",
    "log_prices = np.log(boston_dataset.target)\n",
    "# log_prices.shape (converting to (506,1) shape)\n",
    "target = pd.DataFrame(log_prices,columns=['PRICES'])\n",
    "target.shape"
   ]
  },
  {
   "cell_type": "code",
   "execution_count": 3,
   "metadata": {},
   "outputs": [
    {
     "data": {
      "text/plain": [
       "CRIM         3.613524\n",
       "ZN          11.363636\n",
       "CHAS         0.069170\n",
       "NOX          0.554695\n",
       "RM           6.284634\n",
       "DIS          3.795043\n",
       "RAD          9.549407\n",
       "TAX        408.237154\n",
       "PTRATIO     18.455534\n",
       "B          356.674032\n",
       "LSTAT       12.653063\n",
       "dtype: float64"
      ]
     },
     "execution_count": 3,
     "metadata": {},
     "output_type": "execute_result"
    }
   ],
   "source": [
    "features.mean()"
   ]
  },
  {
   "cell_type": "code",
   "execution_count": 4,
   "metadata": {},
   "outputs": [
    {
     "data": {
      "text/plain": [
       "pandas.core.series.Series"
      ]
     },
     "execution_count": 4,
     "metadata": {},
     "output_type": "execute_result"
    }
   ],
   "source": [
    "type(features.mean())"
   ]
  },
  {
   "cell_type": "code",
   "execution_count": 5,
   "metadata": {},
   "outputs": [
    {
     "data": {
      "text/plain": [
       "numpy.ndarray"
      ]
     },
     "execution_count": 5,
     "metadata": {},
     "output_type": "execute_result"
    }
   ],
   "source": [
    "type(features.mean().values)"
   ]
  },
  {
   "cell_type": "code",
   "execution_count": 6,
   "metadata": {},
   "outputs": [
    {
     "data": {
      "text/plain": [
       "(11,)"
      ]
     },
     "execution_count": 6,
     "metadata": {},
     "output_type": "execute_result"
    }
   ],
   "source": [
    "features.mean().shape"
   ]
  },
  {
   "cell_type": "code",
   "execution_count": 7,
   "metadata": {},
   "outputs": [
    {
     "data": {
      "text/plain": [
       "array([[3.61352356e+00, 1.13636364e+01, 6.91699605e-02, 5.54695059e-01,\n",
       "        6.28463439e+00, 3.79504269e+00, 9.54940711e+00, 4.08237154e+02,\n",
       "        1.84555336e+01, 3.56674032e+02, 1.26530632e+01]])"
      ]
     },
     "execution_count": 7,
     "metadata": {},
     "output_type": "execute_result"
    }
   ],
   "source": [
    "features.mean().values.reshape(1,11) #initially all values set to mean because user cannot know all feature values"
   ]
  },
  {
   "cell_type": "code",
   "execution_count": 8,
   "metadata": {},
   "outputs": [],
   "source": [
    "CRIM_IDX= 0\n",
    "ZN_IDX=1\n",
    "CHAS_IDX=2\n",
    "NOX_IDX=3\n",
    "RM_IDX=4\n",
    "DIS_IDX=5\n",
    "RAD_IDX=6\n",
    "TAX_IDX=7\n",
    "PTRATIO_IDX=8\n",
    "B_IDX=9\n",
    "LSTAT_IDX=10\n",
    "\n",
    "property_stats = features.mean().values.reshape(1,11) #it acts like a template"
   ]
  },
  {
   "cell_type": "code",
   "execution_count": 9,
   "metadata": {},
   "outputs": [],
   "source": [
    "regressor = LinearRegression()\n",
    "regressor.fit(features,target)\n",
    "\n",
    "fitted_values = regressor.predict(features)\n",
    "\n",
    "#calculating MSE and RMSE\n",
    "\n",
    "MSE = mean_squared_error(target,fitted_values)\n",
    "RMSE = np.sqrt(MSE)\n"
   ]
  },
  {
   "cell_type": "code",
   "execution_count": 45,
   "metadata": {},
   "outputs": [],
   "source": [
    "def get_log_estimate(nr_of_rooms,students_per_classroom,next_to_river=False,high_confidence=True):\n",
    "    \n",
    "    #configure property features\n",
    "    property_stats[0][RM_IDX] = nr_of_rooms\n",
    "    property_stats[0][PTRATIO_IDX] = students_per_classroom\n",
    "    \n",
    "    #checking requirement for next to river\n",
    "    if next_to_river:\n",
    "        property_stats[0][CHAS_IDX] = 1\n",
    "    else:\n",
    "        property_stats[0][CHAS_IDX] = 0\n",
    "        \n",
    "    # make prediction\n",
    "    log_estimate = regressor.predict(property_stats)[0][0]\n",
    "    \n",
    "    #checking confidence high confidence(95%)\n",
    "    if high_confidence:\n",
    "        upperbound = log_estimate + 2*RMSE\n",
    "        lowerbound = log_estimate - 2*RMSE\n",
    "        interval = 95\n",
    "    else:\n",
    "        upperbound = log_estimate + RMSE\n",
    "        lowerbound = log_estimate - RMSE\n",
    "        interval = 68\n",
    "    return log_estimate,upperbound,lowerbound,interval"
   ]
  },
  {
   "cell_type": "code",
   "execution_count": 46,
   "metadata": {},
   "outputs": [
    {
     "data": {
      "text/plain": [
       "(2.671609743068939, 3.0466340134631995, 2.2965854726746784, 95)"
      ]
     },
     "execution_count": 46,
     "metadata": {},
     "output_type": "execute_result"
    }
   ],
   "source": [
    "get_log_estimate(3 , 20, next_to_river=False)"
   ]
  },
  {
   "cell_type": "code",
   "execution_count": 47,
   "metadata": {},
   "outputs": [
    {
     "data": {
      "text/plain": [
       "21.2"
      ]
     },
     "execution_count": 47,
     "metadata": {},
     "output_type": "execute_result"
    }
   ],
   "source": [
    "np.median(boston_dataset.target)"
   ]
  },
  {
   "cell_type": "code",
   "execution_count": 48,
   "metadata": {},
   "outputs": [
    {
     "name": "stdout",
     "output_type": "stream",
     "text": [
      "Estimated property value is :$ 827000.0\n",
      "At 68% the valuation range is : \n",
      "USD 685000.0 is estimated lower price and USD 997000.0 is estimated higher price\n"
     ]
    }
   ],
   "source": [
    "# MEDIAN PRICE BACK IN 1970s is \n",
    "# CURRENT MEDIAN PRICE IN BOSTON CITY IS 583000 ie 583 \n",
    "\n",
    "\n",
    "\n",
    "CURRENT_MEDIAN_PRICE = 583.3\n",
    "SCALE_FACTOR = CURRENT_MEDIAN_PRICE/np.median(boston_dataset.target)\n",
    "SCALE_FACTOR\n",
    "\n",
    "log_estim,upper,lower,conf = get_log_estimate(nr_of_rooms=9,students_per_classroom=15,next_to_river=False,high_confidence=False)\n",
    "\n",
    "# Converting them to dollar price as of todays prices\n",
    "dollar_price = np.e**log_estim  * 1000 * SCALE_FACTOR\n",
    "dollar_upper = np.e**upper  * 1000 * SCALE_FACTOR\n",
    "dollar_lower = np.e**lower  * 1000 * SCALE_FACTOR\n",
    "\n",
    "\n",
    "# Round the dollar value to nearest thousands\n",
    "\n",
    "rounded_dollar_price = np.around(dollar_price,-3)\n",
    "rounded_upper_price = np.around(dollar_upper,-3)\n",
    "rounded_lower_price = np.around(dollar_lower,-3)\n",
    "\n",
    "\n",
    "\n",
    "print(f'Estimated property value is :$ {rounded_dollar_price}')\n",
    "print(f'At {conf}% the valuation range is : ')\n",
    "print(f'USD {rounded_lower_price} is estimated lower price and USD {rounded_upper_price} is estimated higher price')"
   ]
  },
  {
   "cell_type": "code",
   "execution_count": 51,
   "metadata": {},
   "outputs": [],
   "source": [
    "# CREATING FUNCTOIN TO GET DOLLAR ESTIMATE\n",
    "\n",
    "def get_dollar_estimate(rm, ptratio, chas=False ,high=True):\n",
    "    \n",
    "    '''\n",
    "    keyword arguments:\n",
    "    rm : number of rooms in house\n",
    "    ptratio : ratio of nmber of students to teacher in a class\n",
    "    chas :True if house near to river otherwise false\n",
    "    high : True for 95% prediction interval false for 65% prediction interval\n",
    "        \n",
    "    '''\n",
    "    \n",
    "    \n",
    "    if rm<1 or ptratio < 1:\n",
    "        print('one or more parameter is unrealistic. Try providing correct paramaters')\n",
    "        return\n",
    "    \n",
    "    CURRENT_MEDIAN_PRICE = 583.3\n",
    "    SCALE_FACTOR = CURRENT_MEDIAN_PRICE/np.median(boston_dataset.target)\n",
    "    SCALE_FACTOR\n",
    "\n",
    "    log_estim,upper,lower,conf = get_log_estimate(nr_of_rooms=rm,students_per_classroom=ptratio,next_to_river=chas,high_confidence=high)\n",
    "\n",
    "    # Converting them to dollar price as of todays prices\n",
    "    dollar_price = np.e**log_estim  * 1000 * SCALE_FACTOR\n",
    "    dollar_upper = np.e**upper  * 1000 * SCALE_FACTOR\n",
    "    dollar_lower = np.e**lower  * 1000 * SCALE_FACTOR\n",
    "\n",
    "\n",
    "    # Round the dollar value to nearest thousands\n",
    "\n",
    "    rounded_dollar_price = np.around(dollar_price,-3)\n",
    "    rounded_upper_price = np.around(dollar_upper,-3)\n",
    "    rounded_lower_price = np.around(dollar_lower,-3)\n",
    "\n",
    "\n",
    "\n",
    "    print(f'Estimated property value is :$ {rounded_dollar_price}')\n",
    "    print(f'At {conf}% the valuation range is : ')\n",
    "    print(f'USD {rounded_lower_price} is estimated lower price and USD {rounded_upper_price} is estimated higher price')"
   ]
  },
  {
   "cell_type": "code",
   "execution_count": 52,
   "metadata": {},
   "outputs": [
    {
     "name": "stdout",
     "output_type": "stream",
     "text": [
      "Estimated property value is :$ 762000.0\n",
      "At 95% the valuation range is : \n",
      "USD 523000.0 is estimated lower price and USD 1108000.0 is estimated higher price\n"
     ]
    }
   ],
   "source": [
    "get_dollar_estimate(rm=9,ptratio=20,chas=True,high=True)"
   ]
  },
  {
   "cell_type": "code",
   "execution_count": 54,
   "metadata": {},
   "outputs": [
    {
     "name": "stdout",
     "output_type": "stream",
     "text": [
      "Estimated property value is :$ 762000.0\n",
      "At 95% the valuation range is : \n",
      "USD 523000.0 is estimated lower price and USD 1108000.0 is estimated higher price\n"
     ]
    }
   ],
   "source": [
    "# making use of boston_valuation.py to get results\n",
    "\n",
    "val.get_dollar_estimate(rm=9,ptratio=20,chas=True,high=True)"
   ]
  },
  {
   "cell_type": "code",
   "execution_count": null,
   "metadata": {},
   "outputs": [],
   "source": []
  }
 ],
 "metadata": {
  "kernelspec": {
   "display_name": "Python 3",
   "language": "python",
   "name": "python3"
  },
  "language_info": {
   "codemirror_mode": {
    "name": "ipython",
    "version": 3
   },
   "file_extension": ".py",
   "mimetype": "text/x-python",
   "name": "python",
   "nbconvert_exporter": "python",
   "pygments_lexer": "ipython3",
   "version": "3.7.4"
  }
 },
 "nbformat": 4,
 "nbformat_minor": 2
}
